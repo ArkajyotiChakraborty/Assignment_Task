{
  "nbformat": 4,
  "nbformat_minor": 0,
  "metadata": {
    "colab": {
      "name": "Assignment_ML_DL.ipynb",
      "provenance": [],
      "collapsed_sections": []
    },
    "kernelspec": {
      "name": "python3",
      "display_name": "Python 3"
    },
    "language_info": {
      "name": "python"
    }
  },
  "cells": [
    {
      "cell_type": "code",
      "metadata": {
        "colab": {
          "base_uri": "https://localhost:8080/",
          "height": 17
        },
        "id": "9_ON-8u_K72M",
        "outputId": "085e81fa-8a06-43fb-ffce-78334deef7fd"
      },
      "source": [
        "# Keras\n",
        "from keras.preprocessing.text import Tokenizer\n",
        "from keras.preprocessing.sequence import pad_sequences\n",
        "from keras.models import Sequential\n",
        "from keras.layers import Dense, Flatten, LSTM, Conv1D, MaxPooling1D, Dropout, Activation\n",
        "from keras.layers.embeddings import Embedding\n",
        "\n",
        "## Plot\n",
        "import plotly.offline as py\n",
        "import plotly.graph_objs as go\n",
        "py.init_notebook_mode(connected=True)\n",
        "import matplotlib as plt\n",
        "\n",
        "# NLTK\n",
        "import nltk\n",
        "from nltk.corpus import stopwords\n",
        "from nltk.stem import SnowballStemmer\n",
        "\n",
        "# Other\n",
        "import re\n",
        "import string\n",
        "from sklearn.manifold import TSNE"
      ],
      "execution_count": 11,
      "outputs": [
        {
          "output_type": "display_data",
          "data": {
            "text/html": [
              "        <script type=\"text/javascript\">\n",
              "        window.PlotlyConfig = {MathJaxConfig: 'local'};\n",
              "        if (window.MathJax) {MathJax.Hub.Config({SVG: {font: \"STIX-Web\"}});}\n",
              "        if (typeof require !== 'undefined') {\n",
              "        require.undef(\"plotly\");\n",
              "        requirejs.config({\n",
              "            paths: {\n",
              "                'plotly': ['https://cdn.plot.ly/plotly-latest.min']\n",
              "            }\n",
              "        });\n",
              "        require(['plotly'], function(Plotly) {\n",
              "            window._Plotly = Plotly;\n",
              "        });\n",
              "        }\n",
              "        </script>\n",
              "        "
            ]
          },
          "metadata": {}
        }
      ]
    },
    {
      "cell_type": "code",
      "metadata": {
        "id": "uDgLPngSIcq6"
      },
      "source": [
        "import pandas as pd\n",
        "import numpy as np"
      ],
      "execution_count": 1,
      "outputs": []
    },
    {
      "cell_type": "code",
      "metadata": {
        "colab": {
          "base_uri": "https://localhost:8080/",
          "height": 204
        },
        "id": "LUj21ZYTJQXr",
        "outputId": "ee747eaf-801c-493a-e6d4-acd056c42e3a"
      },
      "source": [
        "df = pd.read_csv('/content/Question - Sheet1.csv')\n",
        "df.head()"
      ],
      "execution_count": 2,
      "outputs": [
        {
          "output_type": "execute_result",
          "data": {
            "text/html": [
              "<div>\n",
              "<style scoped>\n",
              "    .dataframe tbody tr th:only-of-type {\n",
              "        vertical-align: middle;\n",
              "    }\n",
              "\n",
              "    .dataframe tbody tr th {\n",
              "        vertical-align: top;\n",
              "    }\n",
              "\n",
              "    .dataframe thead th {\n",
              "        text-align: right;\n",
              "    }\n",
              "</style>\n",
              "<table border=\"1\" class=\"dataframe\">\n",
              "  <thead>\n",
              "    <tr style=\"text-align: right;\">\n",
              "      <th></th>\n",
              "      <th>Question</th>\n",
              "      <th>Class</th>\n",
              "    </tr>\n",
              "  </thead>\n",
              "  <tbody>\n",
              "    <tr>\n",
              "      <th>0</th>\n",
              "      <td>In which decade was the American Institute of ...</td>\n",
              "      <td>Sc</td>\n",
              "    </tr>\n",
              "    <tr>\n",
              "      <th>1</th>\n",
              "      <td>What is part of a database that holds only one...</td>\n",
              "      <td>Sc</td>\n",
              "    </tr>\n",
              "    <tr>\n",
              "      <th>2</th>\n",
              "      <td>OS' computer abbreviation usually means ?</td>\n",
              "      <td>Sc</td>\n",
              "    </tr>\n",
              "    <tr>\n",
              "      <th>3</th>\n",
              "      <td>In which decade with the first transatlantic r...</td>\n",
              "      <td>Sc</td>\n",
              "    </tr>\n",
              "    <tr>\n",
              "      <th>4</th>\n",
              "      <td>.MOV' extension refers usually to what kind of...</td>\n",
              "      <td>Sc</td>\n",
              "    </tr>\n",
              "  </tbody>\n",
              "</table>\n",
              "</div>"
            ],
            "text/plain": [
              "                                            Question Class\n",
              "0  In which decade was the American Institute of ...    Sc\n",
              "1  What is part of a database that holds only one...    Sc\n",
              "2          OS' computer abbreviation usually means ?    Sc\n",
              "3  In which decade with the first transatlantic r...    Sc\n",
              "4  .MOV' extension refers usually to what kind of...    Sc"
            ]
          },
          "metadata": {},
          "execution_count": 2
        }
      ]
    },
    {
      "cell_type": "code",
      "metadata": {
        "colab": {
          "base_uri": "https://localhost:8080/",
          "height": 172
        },
        "id": "zGZCqTEyJiXL",
        "outputId": "be7cfe4a-d377-4901-f124-33dd21973329"
      },
      "source": [
        "df.describe()"
      ],
      "execution_count": 3,
      "outputs": [
        {
          "output_type": "execute_result",
          "data": {
            "text/html": [
              "<div>\n",
              "<style scoped>\n",
              "    .dataframe tbody tr th:only-of-type {\n",
              "        vertical-align: middle;\n",
              "    }\n",
              "\n",
              "    .dataframe tbody tr th {\n",
              "        vertical-align: top;\n",
              "    }\n",
              "\n",
              "    .dataframe thead th {\n",
              "        text-align: right;\n",
              "    }\n",
              "</style>\n",
              "<table border=\"1\" class=\"dataframe\">\n",
              "  <thead>\n",
              "    <tr style=\"text-align: right;\">\n",
              "      <th></th>\n",
              "      <th>Question</th>\n",
              "      <th>Class</th>\n",
              "    </tr>\n",
              "  </thead>\n",
              "  <tbody>\n",
              "    <tr>\n",
              "      <th>count</th>\n",
              "      <td>131</td>\n",
              "      <td>131</td>\n",
              "    </tr>\n",
              "    <tr>\n",
              "      <th>unique</th>\n",
              "      <td>130</td>\n",
              "      <td>2</td>\n",
              "    </tr>\n",
              "    <tr>\n",
              "      <th>top</th>\n",
              "      <td>Which of the above statements is/are correct?</td>\n",
              "      <td>Ht</td>\n",
              "    </tr>\n",
              "    <tr>\n",
              "      <th>freq</th>\n",
              "      <td>2</td>\n",
              "      <td>91</td>\n",
              "    </tr>\n",
              "  </tbody>\n",
              "</table>\n",
              "</div>"
            ],
            "text/plain": [
              "                                             Question Class\n",
              "count                                             131   131\n",
              "unique                                            130     2\n",
              "top     Which of the above statements is/are correct?    Ht\n",
              "freq                                                2    91"
            ]
          },
          "metadata": {},
          "execution_count": 3
        }
      ]
    },
    {
      "cell_type": "code",
      "metadata": {
        "id": "YnGj4oNDJ4Yt"
      },
      "source": [
        "def ratio(x):\n",
        "  if x=='Sc':\n",
        "    return 1\n",
        "  else:\n",
        "    return 0;"
      ],
      "execution_count": 4,
      "outputs": []
    },
    {
      "cell_type": "code",
      "metadata": {
        "id": "JEyMc3swLtLj"
      },
      "source": [
        "df['label'] = df.Class.apply(lambda x: ratio(x))"
      ],
      "execution_count": 15,
      "outputs": []
    },
    {
      "cell_type": "markdown",
      "metadata": {
        "id": "a9eEkj23XBKN"
      },
      "source": [
        "Labelling"
      ]
    },
    {
      "cell_type": "code",
      "metadata": {
        "colab": {
          "base_uri": "https://localhost:8080/",
          "height": 418
        },
        "id": "0irZlTYyMSTC",
        "outputId": "61ea7830-6b7d-420e-9de1-7dceff769b59"
      },
      "source": [
        "df"
      ],
      "execution_count": 16,
      "outputs": [
        {
          "output_type": "execute_result",
          "data": {
            "text/html": [
              "<div>\n",
              "<style scoped>\n",
              "    .dataframe tbody tr th:only-of-type {\n",
              "        vertical-align: middle;\n",
              "    }\n",
              "\n",
              "    .dataframe tbody tr th {\n",
              "        vertical-align: top;\n",
              "    }\n",
              "\n",
              "    .dataframe thead th {\n",
              "        text-align: right;\n",
              "    }\n",
              "</style>\n",
              "<table border=\"1\" class=\"dataframe\">\n",
              "  <thead>\n",
              "    <tr style=\"text-align: right;\">\n",
              "      <th></th>\n",
              "      <th>Question</th>\n",
              "      <th>Class</th>\n",
              "      <th>processed_tweets</th>\n",
              "      <th>label</th>\n",
              "    </tr>\n",
              "  </thead>\n",
              "  <tbody>\n",
              "    <tr>\n",
              "      <th>0</th>\n",
              "      <td>In which decade was the American Institute of ...</td>\n",
              "      <td>Sc</td>\n",
              "      <td>decade american institute electrical engineer ...</td>\n",
              "      <td>1</td>\n",
              "    </tr>\n",
              "    <tr>\n",
              "      <th>1</th>\n",
              "      <td>What is part of a database that holds only one...</td>\n",
              "      <td>Sc</td>\n",
              "      <td>part database hold one type information</td>\n",
              "      <td>1</td>\n",
              "    </tr>\n",
              "    <tr>\n",
              "      <th>2</th>\n",
              "      <td>OS' computer abbreviation usually means ?</td>\n",
              "      <td>Sc</td>\n",
              "      <td>o computer abbreviation usually mean</td>\n",
              "      <td>1</td>\n",
              "    </tr>\n",
              "    <tr>\n",
              "      <th>3</th>\n",
              "      <td>In which decade with the first transatlantic r...</td>\n",
              "      <td>Sc</td>\n",
              "      <td>decade first transatlantic radio broadcast occur</td>\n",
              "      <td>1</td>\n",
              "    </tr>\n",
              "    <tr>\n",
              "      <th>4</th>\n",
              "      <td>.MOV' extension refers usually to what kind of...</td>\n",
              "      <td>Sc</td>\n",
              "      <td>mov extension refer usually kind file</td>\n",
              "      <td>1</td>\n",
              "    </tr>\n",
              "    <tr>\n",
              "      <th>...</th>\n",
              "      <td>...</td>\n",
              "      <td>...</td>\n",
              "      <td>...</td>\n",
              "      <td>...</td>\n",
              "    </tr>\n",
              "    <tr>\n",
              "      <th>126</th>\n",
              "      <td>Which of the following ancient Tamil Kingdoms ...</td>\n",
              "      <td>Ht</td>\n",
              "      <td>follow ancient tamil kingdom come know sangam ...</td>\n",
              "      <td>0</td>\n",
              "    </tr>\n",
              "    <tr>\n",
              "      <th>127</th>\n",
              "      <td>Which of the following book is the sequel of a...</td>\n",
              "      <td>Ht</td>\n",
              "      <td>follow book sequel epic silappadikarma</td>\n",
              "      <td>0</td>\n",
              "    </tr>\n",
              "    <tr>\n",
              "      <th>128</th>\n",
              "      <td>Which of the following is the equivalent term ...</td>\n",
              "      <td>Ht</td>\n",
              "      <td>follow equivalent term use raja early vedic era</td>\n",
              "      <td>0</td>\n",
              "    </tr>\n",
              "    <tr>\n",
              "      <th>129</th>\n",
              "      <td>Who among the following was contemporary of Pu...</td>\n",
              "      <td>Ht</td>\n",
              "      <td>among follow contemporary pushyamitra sunga</td>\n",
              "      <td>0</td>\n",
              "    </tr>\n",
              "    <tr>\n",
              "      <th>130</th>\n",
              "      <td>Who overthrew Saka rulers from India?</td>\n",
              "      <td>Ht</td>\n",
              "      <td>overthrow saka ruler india</td>\n",
              "      <td>0</td>\n",
              "    </tr>\n",
              "  </tbody>\n",
              "</table>\n",
              "<p>131 rows × 4 columns</p>\n",
              "</div>"
            ],
            "text/plain": [
              "                                              Question  ... label\n",
              "0    In which decade was the American Institute of ...  ...     1\n",
              "1    What is part of a database that holds only one...  ...     1\n",
              "2            OS' computer abbreviation usually means ?  ...     1\n",
              "3    In which decade with the first transatlantic r...  ...     1\n",
              "4    .MOV' extension refers usually to what kind of...  ...     1\n",
              "..                                                 ...  ...   ...\n",
              "126  Which of the following ancient Tamil Kingdoms ...  ...     0\n",
              "127  Which of the following book is the sequel of a...  ...     0\n",
              "128  Which of the following is the equivalent term ...  ...     0\n",
              "129  Who among the following was contemporary of Pu...  ...     0\n",
              "130              Who overthrew Saka rulers from India?  ...     0\n",
              "\n",
              "[131 rows x 4 columns]"
            ]
          },
          "metadata": {},
          "execution_count": 16
        }
      ]
    },
    {
      "cell_type": "markdown",
      "metadata": {
        "id": "31Ry-3zZKZhE"
      },
      "source": [
        "Processing of the Text"
      ]
    },
    {
      "cell_type": "code",
      "metadata": {
        "id": "JUy-dja8KCqT"
      },
      "source": [
        "import nltk\n",
        "from nltk.stem import WordNetLemmatizer\n",
        "from nltk.corpus import stopwords\n",
        "import re"
      ],
      "execution_count": 6,
      "outputs": []
    },
    {
      "cell_type": "code",
      "metadata": {
        "colab": {
          "base_uri": "https://localhost:8080/"
        },
        "id": "nZ2Pc4c7Kd2F",
        "outputId": "8ed5925b-c994-405b-cd1a-21a9ef1ef130"
      },
      "source": [
        "nltk.download('wordnet')\n",
        "nltk.download('stopwords')"
      ],
      "execution_count": 7,
      "outputs": [
        {
          "output_type": "stream",
          "name": "stdout",
          "text": [
            "[nltk_data] Downloading package wordnet to /root/nltk_data...\n",
            "[nltk_data]   Unzipping corpora/wordnet.zip.\n",
            "[nltk_data] Downloading package stopwords to /root/nltk_data...\n",
            "[nltk_data]   Unzipping corpora/stopwords.zip.\n"
          ]
        },
        {
          "output_type": "execute_result",
          "data": {
            "text/plain": [
              "True"
            ]
          },
          "metadata": {},
          "execution_count": 7
        }
      ]
    },
    {
      "cell_type": "code",
      "metadata": {
        "id": "AtrOuXG2KgHi"
      },
      "source": [
        "stop_words = set(stopwords.words(\"english\"))\n",
        "stop_words.add('rt')\n",
        "stop_words.remove('not')\n",
        "lemmatizer = WordNetLemmatizer()\n",
        "giant_url_regex = ('http[s]?://(?:[a-zA-Z]|[0-9]|[$-_@.&+]|' '[!*\\(\\),]|(?:%[0-9a-fA-F][0-9a-fA-F]))+')\n",
        "mention_regex = '@[\\w\\-]+'\n",
        "\n",
        "def clean_text(text):\n",
        "    text = re.sub('\"', \"\", text)\n",
        "    text = re.sub(mention_regex, ' ',text) #removing all user names\n",
        "    text = re.sub(giant_url_regex, ' ', text)  #remocing the urls\n",
        "    text = text.lower()\n",
        "    text = re.sub(\"hm+\", \"\", text) #removing variants of hmmm\n",
        "    text = re.sub(\"[^a-z]+\", \" \", text) #removing all numbers, special chars like @,#,? etc\n",
        "    text = text.split()\n",
        "    text = [word for word in text if not word in stop_words]\n",
        "    #text = [d[word] if word in d else word for word in text]  #replacing some slangs\n",
        "    text = [lemmatizer.lemmatize(token) for token in text]\n",
        "    text = [lemmatizer.lemmatize(token, \"v\") for token in text]\n",
        "    text = \" \".join(text)\n",
        "    return text"
      ],
      "execution_count": 8,
      "outputs": []
    },
    {
      "cell_type": "code",
      "metadata": {
        "colab": {
          "base_uri": "https://localhost:8080/",
          "height": 204
        },
        "id": "R1XKl8ntKmKj",
        "outputId": "e19896f4-beb5-4a83-c1a4-ef70fac63b49"
      },
      "source": [
        "df['processed_tweets'] = df.Question.apply(lambda x: clean_text(x))   # df.review.map(clean_text) Also can be used\n",
        "df.head()"
      ],
      "execution_count": 10,
      "outputs": [
        {
          "output_type": "execute_result",
          "data": {
            "text/html": [
              "<div>\n",
              "<style scoped>\n",
              "    .dataframe tbody tr th:only-of-type {\n",
              "        vertical-align: middle;\n",
              "    }\n",
              "\n",
              "    .dataframe tbody tr th {\n",
              "        vertical-align: top;\n",
              "    }\n",
              "\n",
              "    .dataframe thead th {\n",
              "        text-align: right;\n",
              "    }\n",
              "</style>\n",
              "<table border=\"1\" class=\"dataframe\">\n",
              "  <thead>\n",
              "    <tr style=\"text-align: right;\">\n",
              "      <th></th>\n",
              "      <th>Question</th>\n",
              "      <th>Class</th>\n",
              "      <th>processed_tweets</th>\n",
              "    </tr>\n",
              "  </thead>\n",
              "  <tbody>\n",
              "    <tr>\n",
              "      <th>0</th>\n",
              "      <td>In which decade was the American Institute of ...</td>\n",
              "      <td>Sc</td>\n",
              "      <td>decade american institute electrical engineer ...</td>\n",
              "    </tr>\n",
              "    <tr>\n",
              "      <th>1</th>\n",
              "      <td>What is part of a database that holds only one...</td>\n",
              "      <td>Sc</td>\n",
              "      <td>part database hold one type information</td>\n",
              "    </tr>\n",
              "    <tr>\n",
              "      <th>2</th>\n",
              "      <td>OS' computer abbreviation usually means ?</td>\n",
              "      <td>Sc</td>\n",
              "      <td>o computer abbreviation usually mean</td>\n",
              "    </tr>\n",
              "    <tr>\n",
              "      <th>3</th>\n",
              "      <td>In which decade with the first transatlantic r...</td>\n",
              "      <td>Sc</td>\n",
              "      <td>decade first transatlantic radio broadcast occur</td>\n",
              "    </tr>\n",
              "    <tr>\n",
              "      <th>4</th>\n",
              "      <td>.MOV' extension refers usually to what kind of...</td>\n",
              "      <td>Sc</td>\n",
              "      <td>mov extension refer usually kind file</td>\n",
              "    </tr>\n",
              "  </tbody>\n",
              "</table>\n",
              "</div>"
            ],
            "text/plain": [
              "                                            Question  ...                                   processed_tweets\n",
              "0  In which decade was the American Institute of ...  ...  decade american institute electrical engineer ...\n",
              "1  What is part of a database that holds only one...  ...            part database hold one type information\n",
              "2          OS' computer abbreviation usually means ?  ...               o computer abbreviation usually mean\n",
              "3  In which decade with the first transatlantic r...  ...   decade first transatlantic radio broadcast occur\n",
              "4  .MOV' extension refers usually to what kind of...  ...              mov extension refer usually kind file\n",
              "\n",
              "[5 rows x 3 columns]"
            ]
          },
          "metadata": {},
          "execution_count": 10
        }
      ]
    },
    {
      "cell_type": "code",
      "metadata": {
        "id": "wOWjxWbVKz18"
      },
      "source": [
        "from sklearn.model_selection import train_test_split as tts"
      ],
      "execution_count": 12,
      "outputs": []
    },
    {
      "cell_type": "code",
      "metadata": {
        "id": "W9zU_-xCLJPk"
      },
      "source": [
        "df['processed_tweets'] = df['processed_tweets'].astype(str)"
      ],
      "execution_count": 13,
      "outputs": []
    },
    {
      "cell_type": "code",
      "metadata": {
        "id": "__yzVnKjLiEr"
      },
      "source": [
        "x = df['processed_tweets']\n",
        "y = df['label']"
      ],
      "execution_count": 17,
      "outputs": []
    },
    {
      "cell_type": "code",
      "metadata": {
        "colab": {
          "base_uri": "https://localhost:8080/"
        },
        "id": "3vR0PJ5SMV_c",
        "outputId": "2b5bafcc-f1f7-4bd1-9ce2-5a80ef03b6fa"
      },
      "source": [
        "num_words = 8000\n",
        "embed_dim = 32\n",
        "tokenizer = Tokenizer(num_words=num_words,oov_token = \"<oov>\" )\n",
        "tokenizer.fit_on_texts(x)\n",
        "word_index=tokenizer.word_index\n",
        "sequences = tokenizer.texts_to_sequences(x)\n",
        "length=[]\n",
        "for i in sequences:\n",
        "    length.append(len(i))\n",
        "print(len(length))\n",
        "print(\"Mean is: \",np.mean(length))\n",
        "print(\"Max is: \",np.max(length))\n",
        "print(\"Min is: \",np.min(length))"
      ],
      "execution_count": 18,
      "outputs": [
        {
          "output_type": "stream",
          "name": "stdout",
          "text": [
            "131\n",
            "Mean is:  7.0534351145038165\n",
            "Max is:  17\n",
            "Min is:  2\n"
          ]
        }
      ]
    },
    {
      "cell_type": "code",
      "metadata": {
        "colab": {
          "base_uri": "https://localhost:8080/"
        },
        "id": "JzwLj59UMaaq",
        "outputId": "a26fdc76-f837-4aec-c191-4e3228f1bcea"
      },
      "source": [
        "pad_length = 24\n",
        "sequences = pad_sequences(sequences, maxlen = pad_length, truncating = 'pre', padding = 'post')\n",
        "sequences.shape"
      ],
      "execution_count": 40,
      "outputs": [
        {
          "output_type": "execute_result",
          "data": {
            "text/plain": [
              "(131, 24)"
            ]
          },
          "metadata": {},
          "execution_count": 40
        }
      ]
    },
    {
      "cell_type": "code",
      "metadata": {
        "colab": {
          "base_uri": "https://localhost:8080/"
        },
        "id": "d5knEB7zMdVx",
        "outputId": "afb9fdca-e897-4a24-efa8-48229977ca03"
      },
      "source": [
        "x_train,x_test,y_train,y_test = tts(sequences,y,test_size = 0.2)\n",
        "print(x_train.shape)\n",
        "print(x_test.shape)\n",
        "print(y_train.shape)\n",
        "print(y_test.shape)"
      ],
      "execution_count": 41,
      "outputs": [
        {
          "output_type": "stream",
          "name": "stdout",
          "text": [
            "(104, 24)\n",
            "(27, 24)\n",
            "(104,)\n",
            "(27,)\n"
          ]
        }
      ]
    },
    {
      "cell_type": "markdown",
      "metadata": {
        "id": "prXjsV_iN5CO"
      },
      "source": [
        "Using LSTM Binnary Classification"
      ]
    },
    {
      "cell_type": "code",
      "metadata": {
        "id": "9fRzNVOsMkY9"
      },
      "source": [
        "model_lstm = Sequential()\n",
        "model_lstm.add(Embedding(20000, 100, input_length=50))\n",
        "model_lstm.add(LSTM(100, dropout=0.2, recurrent_dropout=0.2))\n",
        "model_lstm.add(Dense(1, activation='sigmoid'))\n",
        "model_lstm.compile(loss='binary_crossentropy', optimizer='adam', metrics=['accuracy'])"
      ],
      "execution_count": 42,
      "outputs": []
    },
    {
      "cell_type": "code",
      "metadata": {
        "colab": {
          "base_uri": "https://localhost:8080/"
        },
        "id": "5DO6cEe-Mo3S",
        "outputId": "ba2a245f-ac25-42a1-a7f5-024d3d941291"
      },
      "source": [
        "model_lstm.fit(x_train, y_train, validation_split=0.2, epochs=50)"
      ],
      "execution_count": 44,
      "outputs": [
        {
          "output_type": "stream",
          "name": "stdout",
          "text": [
            "Epoch 1/50\n",
            "3/3 [==============================] - 0s 109ms/step - loss: 0.6437 - accuracy: 0.6627 - val_loss: 0.5103 - val_accuracy: 0.8095\n",
            "Epoch 2/50\n",
            "3/3 [==============================] - 0s 88ms/step - loss: 0.6471 - accuracy: 0.6627 - val_loss: 0.5168 - val_accuracy: 0.8095\n",
            "Epoch 3/50\n",
            "3/3 [==============================] - 0s 95ms/step - loss: 0.6402 - accuracy: 0.6627 - val_loss: 0.5379 - val_accuracy: 0.8095\n",
            "Epoch 4/50\n",
            "3/3 [==============================] - 0s 92ms/step - loss: 0.6410 - accuracy: 0.6627 - val_loss: 0.5546 - val_accuracy: 0.8095\n",
            "Epoch 5/50\n",
            "3/3 [==============================] - 0s 97ms/step - loss: 0.6406 - accuracy: 0.6627 - val_loss: 0.5598 - val_accuracy: 0.8095\n",
            "Epoch 6/50\n",
            "3/3 [==============================] - 0s 96ms/step - loss: 0.6426 - accuracy: 0.6627 - val_loss: 0.5550 - val_accuracy: 0.8095\n",
            "Epoch 7/50\n",
            "3/3 [==============================] - 0s 93ms/step - loss: 0.6390 - accuracy: 0.6627 - val_loss: 0.5490 - val_accuracy: 0.8095\n",
            "Epoch 8/50\n",
            "3/3 [==============================] - 0s 89ms/step - loss: 0.6397 - accuracy: 0.6627 - val_loss: 0.5391 - val_accuracy: 0.8095\n",
            "Epoch 9/50\n",
            "3/3 [==============================] - 0s 94ms/step - loss: 0.6389 - accuracy: 0.6627 - val_loss: 0.5302 - val_accuracy: 0.8095\n",
            "Epoch 10/50\n",
            "3/3 [==============================] - 0s 96ms/step - loss: 0.6381 - accuracy: 0.6627 - val_loss: 0.5239 - val_accuracy: 0.8095\n",
            "Epoch 11/50\n",
            "3/3 [==============================] - 0s 91ms/step - loss: 0.6438 - accuracy: 0.6627 - val_loss: 0.5287 - val_accuracy: 0.8095\n",
            "Epoch 12/50\n",
            "3/3 [==============================] - 0s 92ms/step - loss: 0.6402 - accuracy: 0.6627 - val_loss: 0.5284 - val_accuracy: 0.8095\n",
            "Epoch 13/50\n",
            "3/3 [==============================] - 0s 92ms/step - loss: 0.6412 - accuracy: 0.6627 - val_loss: 0.5351 - val_accuracy: 0.8095\n",
            "Epoch 14/50\n",
            "3/3 [==============================] - 0s 93ms/step - loss: 0.6406 - accuracy: 0.6627 - val_loss: 0.5447 - val_accuracy: 0.8095\n",
            "Epoch 15/50\n",
            "3/3 [==============================] - 0s 90ms/step - loss: 0.6390 - accuracy: 0.6627 - val_loss: 0.5428 - val_accuracy: 0.8095\n",
            "Epoch 16/50\n",
            "3/3 [==============================] - 0s 91ms/step - loss: 0.6395 - accuracy: 0.6627 - val_loss: 0.5402 - val_accuracy: 0.8095\n",
            "Epoch 17/50\n",
            "3/3 [==============================] - 0s 92ms/step - loss: 0.6384 - accuracy: 0.6627 - val_loss: 0.5368 - val_accuracy: 0.8095\n",
            "Epoch 18/50\n",
            "3/3 [==============================] - 0s 98ms/step - loss: 0.6400 - accuracy: 0.6627 - val_loss: 0.5369 - val_accuracy: 0.8095\n",
            "Epoch 19/50\n",
            "3/3 [==============================] - 0s 92ms/step - loss: 0.6399 - accuracy: 0.6627 - val_loss: 0.5308 - val_accuracy: 0.8095\n",
            "Epoch 20/50\n",
            "3/3 [==============================] - 0s 95ms/step - loss: 0.6387 - accuracy: 0.6627 - val_loss: 0.5276 - val_accuracy: 0.8095\n",
            "Epoch 21/50\n",
            "3/3 [==============================] - 0s 91ms/step - loss: 0.6395 - accuracy: 0.6627 - val_loss: 0.5333 - val_accuracy: 0.8095\n",
            "Epoch 22/50\n",
            "3/3 [==============================] - 0s 93ms/step - loss: 0.6387 - accuracy: 0.6627 - val_loss: 0.5396 - val_accuracy: 0.8095\n",
            "Epoch 23/50\n",
            "3/3 [==============================] - 0s 90ms/step - loss: 0.6425 - accuracy: 0.6627 - val_loss: 0.5496 - val_accuracy: 0.8095\n",
            "Epoch 24/50\n",
            "3/3 [==============================] - 0s 94ms/step - loss: 0.6393 - accuracy: 0.6627 - val_loss: 0.5482 - val_accuracy: 0.8095\n",
            "Epoch 25/50\n",
            "3/3 [==============================] - 0s 100ms/step - loss: 0.6400 - accuracy: 0.6627 - val_loss: 0.5481 - val_accuracy: 0.8095\n",
            "Epoch 26/50\n",
            "3/3 [==============================] - 0s 94ms/step - loss: 0.6392 - accuracy: 0.6627 - val_loss: 0.5447 - val_accuracy: 0.8095\n",
            "Epoch 27/50\n",
            "3/3 [==============================] - 0s 90ms/step - loss: 0.6403 - accuracy: 0.6627 - val_loss: 0.5407 - val_accuracy: 0.8095\n",
            "Epoch 28/50\n",
            "3/3 [==============================] - 0s 92ms/step - loss: 0.6413 - accuracy: 0.6627 - val_loss: 0.5424 - val_accuracy: 0.8095\n",
            "Epoch 29/50\n",
            "3/3 [==============================] - 0s 96ms/step - loss: 0.6391 - accuracy: 0.6627 - val_loss: 0.5396 - val_accuracy: 0.8095\n",
            "Epoch 30/50\n",
            "3/3 [==============================] - 0s 96ms/step - loss: 0.6398 - accuracy: 0.6627 - val_loss: 0.5383 - val_accuracy: 0.8095\n",
            "Epoch 31/50\n",
            "3/3 [==============================] - 0s 90ms/step - loss: 0.6412 - accuracy: 0.6627 - val_loss: 0.5401 - val_accuracy: 0.8095\n",
            "Epoch 32/50\n",
            "3/3 [==============================] - 0s 95ms/step - loss: 0.6404 - accuracy: 0.6627 - val_loss: 0.5328 - val_accuracy: 0.8095\n",
            "Epoch 33/50\n",
            "3/3 [==============================] - 0s 93ms/step - loss: 0.6400 - accuracy: 0.6627 - val_loss: 0.5377 - val_accuracy: 0.8095\n",
            "Epoch 34/50\n",
            "3/3 [==============================] - 0s 97ms/step - loss: 0.6409 - accuracy: 0.6627 - val_loss: 0.5367 - val_accuracy: 0.8095\n",
            "Epoch 35/50\n",
            "3/3 [==============================] - 0s 91ms/step - loss: 0.6395 - accuracy: 0.6627 - val_loss: 0.5369 - val_accuracy: 0.8095\n",
            "Epoch 36/50\n",
            "3/3 [==============================] - 0s 101ms/step - loss: 0.6380 - accuracy: 0.6627 - val_loss: 0.5367 - val_accuracy: 0.8095\n",
            "Epoch 37/50\n",
            "3/3 [==============================] - 0s 95ms/step - loss: 0.6408 - accuracy: 0.6627 - val_loss: 0.5318 - val_accuracy: 0.8095\n",
            "Epoch 38/50\n",
            "3/3 [==============================] - 0s 91ms/step - loss: 0.6438 - accuracy: 0.6627 - val_loss: 0.5377 - val_accuracy: 0.8095\n",
            "Epoch 39/50\n",
            "3/3 [==============================] - 0s 90ms/step - loss: 0.6394 - accuracy: 0.6627 - val_loss: 0.5403 - val_accuracy: 0.8095\n",
            "Epoch 40/50\n",
            "3/3 [==============================] - 0s 99ms/step - loss: 0.6386 - accuracy: 0.6627 - val_loss: 0.5399 - val_accuracy: 0.8095\n",
            "Epoch 41/50\n",
            "3/3 [==============================] - 0s 89ms/step - loss: 0.6412 - accuracy: 0.6627 - val_loss: 0.5385 - val_accuracy: 0.8095\n",
            "Epoch 42/50\n",
            "3/3 [==============================] - 0s 90ms/step - loss: 0.6390 - accuracy: 0.6627 - val_loss: 0.5478 - val_accuracy: 0.8095\n",
            "Epoch 43/50\n",
            "3/3 [==============================] - 0s 96ms/step - loss: 0.6405 - accuracy: 0.6627 - val_loss: 0.5519 - val_accuracy: 0.8095\n",
            "Epoch 44/50\n",
            "3/3 [==============================] - 0s 96ms/step - loss: 0.6417 - accuracy: 0.6627 - val_loss: 0.5581 - val_accuracy: 0.8095\n",
            "Epoch 45/50\n",
            "3/3 [==============================] - 0s 93ms/step - loss: 0.6434 - accuracy: 0.6627 - val_loss: 0.5596 - val_accuracy: 0.8095\n",
            "Epoch 46/50\n",
            "3/3 [==============================] - 0s 97ms/step - loss: 0.6415 - accuracy: 0.6627 - val_loss: 0.5545 - val_accuracy: 0.8095\n",
            "Epoch 47/50\n",
            "3/3 [==============================] - 0s 88ms/step - loss: 0.6400 - accuracy: 0.6627 - val_loss: 0.5484 - val_accuracy: 0.8095\n",
            "Epoch 48/50\n",
            "3/3 [==============================] - 0s 97ms/step - loss: 0.6394 - accuracy: 0.6627 - val_loss: 0.5394 - val_accuracy: 0.8095\n",
            "Epoch 49/50\n",
            "3/3 [==============================] - 0s 99ms/step - loss: 0.6415 - accuracy: 0.6627 - val_loss: 0.5315 - val_accuracy: 0.8095\n",
            "Epoch 50/50\n",
            "3/3 [==============================] - 0s 91ms/step - loss: 0.6385 - accuracy: 0.6627 - val_loss: 0.5311 - val_accuracy: 0.8095\n"
          ]
        },
        {
          "output_type": "execute_result",
          "data": {
            "text/plain": [
              "<keras.callbacks.History at 0x7fc72e3eec90>"
            ]
          },
          "metadata": {},
          "execution_count": 44
        }
      ]
    },
    {
      "cell_type": "code",
      "metadata": {
        "colab": {
          "base_uri": "https://localhost:8080/"
        },
        "id": "BMJEHcJwMzK6",
        "outputId": "d440d201-c4c4-4f20-c191-bd1b3e1e0923"
      },
      "source": [
        "model_lstm.evaluate(x_test, y_test)"
      ],
      "execution_count": 45,
      "outputs": [
        {
          "output_type": "stream",
          "name": "stdout",
          "text": [
            "1/1 [==============================] - 0s 24ms/step - loss: 0.6094 - accuracy: 0.7037\n"
          ]
        },
        {
          "output_type": "execute_result",
          "data": {
            "text/plain": [
              "[0.6093665361404419, 0.7037037014961243]"
            ]
          },
          "metadata": {},
          "execution_count": 45
        }
      ]
    },
    {
      "cell_type": "markdown",
      "metadata": {
        "id": "KuaJFoSWOEYB"
      },
      "source": [
        "CNN+LSTM"
      ]
    },
    {
      "cell_type": "code",
      "metadata": {
        "id": "SfgqZk4uOUjK"
      },
      "source": [
        "vocabulary_size = 20000"
      ],
      "execution_count": 48,
      "outputs": []
    },
    {
      "cell_type": "code",
      "metadata": {
        "id": "pFWw2G05N-Qy"
      },
      "source": [
        "def create_conv_model():\n",
        "    model_conv = Sequential()\n",
        "    model_conv.add(Embedding(vocabulary_size, 100, input_length=50))\n",
        "    model_conv.add(Dropout(0.2))\n",
        "    model_conv.add(Conv1D(64, 5, activation='relu'))\n",
        "    model_conv.add(MaxPooling1D(pool_size=4))\n",
        "    model_conv.add(LSTM(100))\n",
        "    model_conv.add(Dense(1, activation='sigmoid'))\n",
        "    model_conv.compile(loss='binary_crossentropy', optimizer='adam', metrics=['accuracy'])\n",
        "    return model_conv"
      ],
      "execution_count": 49,
      "outputs": []
    },
    {
      "cell_type": "code",
      "metadata": {
        "colab": {
          "base_uri": "https://localhost:8080/"
        },
        "id": "9JA0wDSWOHRo",
        "outputId": "44f47e25-c1e6-490b-f1ea-90ffa3af5602"
      },
      "source": [
        "model_conv = create_conv_model()\n",
        "model_conv.fit(x_train, y_train, validation_split=0.2, epochs = 50)"
      ],
      "execution_count": 50,
      "outputs": [
        {
          "output_type": "stream",
          "name": "stdout",
          "text": [
            "Epoch 1/50\n",
            "WARNING:tensorflow:Model was constructed with shape (None, 50) for input KerasTensor(type_spec=TensorSpec(shape=(None, 50), dtype=tf.float32, name='embedding_5_input'), name='embedding_5_input', description=\"created by layer 'embedding_5_input'\"), but it was called on an input with incompatible shape (None, 24).\n",
            "WARNING:tensorflow:Model was constructed with shape (None, 50) for input KerasTensor(type_spec=TensorSpec(shape=(None, 50), dtype=tf.float32, name='embedding_5_input'), name='embedding_5_input', description=\"created by layer 'embedding_5_input'\"), but it was called on an input with incompatible shape (None, 24).\n",
            "3/3 [==============================] - ETA: 0s - loss: 0.6846 - accuracy: 0.5301WARNING:tensorflow:Model was constructed with shape (None, 50) for input KerasTensor(type_spec=TensorSpec(shape=(None, 50), dtype=tf.float32, name='embedding_5_input'), name='embedding_5_input', description=\"created by layer 'embedding_5_input'\"), but it was called on an input with incompatible shape (None, 24).\n",
            "3/3 [==============================] - 3s 313ms/step - loss: 0.6846 - accuracy: 0.5301 - val_loss: 0.6448 - val_accuracy: 0.8095\n",
            "Epoch 2/50\n",
            "3/3 [==============================] - 0s 48ms/step - loss: 0.6555 - accuracy: 0.6627 - val_loss: 0.5809 - val_accuracy: 0.8095\n",
            "Epoch 3/50\n",
            "3/3 [==============================] - 0s 53ms/step - loss: 0.6437 - accuracy: 0.6627 - val_loss: 0.5279 - val_accuracy: 0.8095\n",
            "Epoch 4/50\n",
            "3/3 [==============================] - 0s 46ms/step - loss: 0.6439 - accuracy: 0.6627 - val_loss: 0.5309 - val_accuracy: 0.8095\n",
            "Epoch 5/50\n",
            "3/3 [==============================] - 0s 49ms/step - loss: 0.6447 - accuracy: 0.6627 - val_loss: 0.5447 - val_accuracy: 0.8095\n",
            "Epoch 6/50\n",
            "3/3 [==============================] - 0s 48ms/step - loss: 0.6408 - accuracy: 0.6627 - val_loss: 0.5437 - val_accuracy: 0.8095\n",
            "Epoch 7/50\n",
            "3/3 [==============================] - 0s 48ms/step - loss: 0.6406 - accuracy: 0.6627 - val_loss: 0.5439 - val_accuracy: 0.8095\n",
            "Epoch 8/50\n",
            "3/3 [==============================] - 0s 49ms/step - loss: 0.6396 - accuracy: 0.6627 - val_loss: 0.5533 - val_accuracy: 0.8095\n",
            "Epoch 9/50\n",
            "3/3 [==============================] - 0s 47ms/step - loss: 0.6389 - accuracy: 0.6627 - val_loss: 0.5600 - val_accuracy: 0.8095\n",
            "Epoch 10/50\n",
            "3/3 [==============================] - 0s 48ms/step - loss: 0.6398 - accuracy: 0.6627 - val_loss: 0.5626 - val_accuracy: 0.8095\n",
            "Epoch 11/50\n",
            "3/3 [==============================] - 0s 48ms/step - loss: 0.6406 - accuracy: 0.6627 - val_loss: 0.5639 - val_accuracy: 0.8095\n",
            "Epoch 12/50\n",
            "3/3 [==============================] - 0s 47ms/step - loss: 0.6404 - accuracy: 0.6627 - val_loss: 0.5637 - val_accuracy: 0.8095\n",
            "Epoch 13/50\n",
            "3/3 [==============================] - 0s 48ms/step - loss: 0.6407 - accuracy: 0.6627 - val_loss: 0.5587 - val_accuracy: 0.8095\n",
            "Epoch 14/50\n",
            "3/3 [==============================] - 0s 45ms/step - loss: 0.6391 - accuracy: 0.6627 - val_loss: 0.5516 - val_accuracy: 0.8095\n",
            "Epoch 15/50\n",
            "3/3 [==============================] - 0s 47ms/step - loss: 0.6384 - accuracy: 0.6627 - val_loss: 0.5438 - val_accuracy: 0.8095\n",
            "Epoch 16/50\n",
            "3/3 [==============================] - 0s 49ms/step - loss: 0.6415 - accuracy: 0.6627 - val_loss: 0.5371 - val_accuracy: 0.8095\n",
            "Epoch 17/50\n",
            "3/3 [==============================] - 0s 46ms/step - loss: 0.6404 - accuracy: 0.6627 - val_loss: 0.5439 - val_accuracy: 0.8095\n",
            "Epoch 18/50\n",
            "3/3 [==============================] - 0s 54ms/step - loss: 0.6428 - accuracy: 0.6627 - val_loss: 0.5610 - val_accuracy: 0.8095\n",
            "Epoch 19/50\n",
            "3/3 [==============================] - 0s 49ms/step - loss: 0.6399 - accuracy: 0.6627 - val_loss: 0.5619 - val_accuracy: 0.8095\n",
            "Epoch 20/50\n",
            "3/3 [==============================] - 0s 52ms/step - loss: 0.6397 - accuracy: 0.6627 - val_loss: 0.5652 - val_accuracy: 0.8095\n",
            "Epoch 21/50\n",
            "3/3 [==============================] - 0s 46ms/step - loss: 0.6402 - accuracy: 0.6627 - val_loss: 0.5633 - val_accuracy: 0.8095\n",
            "Epoch 22/50\n",
            "3/3 [==============================] - 0s 57ms/step - loss: 0.6399 - accuracy: 0.6627 - val_loss: 0.5602 - val_accuracy: 0.8095\n",
            "Epoch 23/50\n",
            "3/3 [==============================] - 0s 48ms/step - loss: 0.6397 - accuracy: 0.6627 - val_loss: 0.5538 - val_accuracy: 0.8095\n",
            "Epoch 24/50\n",
            "3/3 [==============================] - 0s 47ms/step - loss: 0.6388 - accuracy: 0.6627 - val_loss: 0.5474 - val_accuracy: 0.8095\n",
            "Epoch 25/50\n",
            "3/3 [==============================] - 0s 52ms/step - loss: 0.6407 - accuracy: 0.6627 - val_loss: 0.5380 - val_accuracy: 0.8095\n",
            "Epoch 26/50\n",
            "3/3 [==============================] - 0s 48ms/step - loss: 0.6409 - accuracy: 0.6627 - val_loss: 0.5391 - val_accuracy: 0.8095\n",
            "Epoch 27/50\n",
            "3/3 [==============================] - 0s 48ms/step - loss: 0.6412 - accuracy: 0.6627 - val_loss: 0.5514 - val_accuracy: 0.8095\n",
            "Epoch 28/50\n",
            "3/3 [==============================] - 0s 49ms/step - loss: 0.6400 - accuracy: 0.6627 - val_loss: 0.5523 - val_accuracy: 0.8095\n",
            "Epoch 29/50\n",
            "3/3 [==============================] - 0s 50ms/step - loss: 0.6435 - accuracy: 0.6627 - val_loss: 0.5608 - val_accuracy: 0.8095\n",
            "Epoch 30/50\n",
            "3/3 [==============================] - 0s 48ms/step - loss: 0.6396 - accuracy: 0.6627 - val_loss: 0.5546 - val_accuracy: 0.8095\n",
            "Epoch 31/50\n",
            "3/3 [==============================] - 0s 47ms/step - loss: 0.6422 - accuracy: 0.6627 - val_loss: 0.5457 - val_accuracy: 0.8095\n",
            "Epoch 32/50\n",
            "3/3 [==============================] - 0s 56ms/step - loss: 0.6397 - accuracy: 0.6627 - val_loss: 0.5499 - val_accuracy: 0.8095\n",
            "Epoch 33/50\n",
            "3/3 [==============================] - 0s 47ms/step - loss: 0.6396 - accuracy: 0.6627 - val_loss: 0.5536 - val_accuracy: 0.8095\n",
            "Epoch 34/50\n",
            "3/3 [==============================] - 0s 49ms/step - loss: 0.6400 - accuracy: 0.6627 - val_loss: 0.5545 - val_accuracy: 0.8095\n",
            "Epoch 35/50\n",
            "3/3 [==============================] - 0s 47ms/step - loss: 0.6398 - accuracy: 0.6627 - val_loss: 0.5536 - val_accuracy: 0.8095\n",
            "Epoch 36/50\n",
            "3/3 [==============================] - 0s 45ms/step - loss: 0.6405 - accuracy: 0.6627 - val_loss: 0.5451 - val_accuracy: 0.8095\n",
            "Epoch 37/50\n",
            "3/3 [==============================] - 0s 48ms/step - loss: 0.6400 - accuracy: 0.6627 - val_loss: 0.5445 - val_accuracy: 0.8095\n",
            "Epoch 38/50\n",
            "3/3 [==============================] - 0s 48ms/step - loss: 0.6390 - accuracy: 0.6627 - val_loss: 0.5496 - val_accuracy: 0.8095\n",
            "Epoch 39/50\n",
            "3/3 [==============================] - 0s 50ms/step - loss: 0.6390 - accuracy: 0.6627 - val_loss: 0.5547 - val_accuracy: 0.8095\n",
            "Epoch 40/50\n",
            "3/3 [==============================] - 0s 48ms/step - loss: 0.6397 - accuracy: 0.6627 - val_loss: 0.5597 - val_accuracy: 0.8095\n",
            "Epoch 41/50\n",
            "3/3 [==============================] - 0s 50ms/step - loss: 0.6398 - accuracy: 0.6627 - val_loss: 0.5602 - val_accuracy: 0.8095\n",
            "Epoch 42/50\n",
            "3/3 [==============================] - 0s 47ms/step - loss: 0.6407 - accuracy: 0.6627 - val_loss: 0.5640 - val_accuracy: 0.8095\n",
            "Epoch 43/50\n",
            "3/3 [==============================] - 0s 49ms/step - loss: 0.6407 - accuracy: 0.6627 - val_loss: 0.5619 - val_accuracy: 0.8095\n",
            "Epoch 44/50\n",
            "3/3 [==============================] - 0s 45ms/step - loss: 0.6398 - accuracy: 0.6627 - val_loss: 0.5547 - val_accuracy: 0.8095\n",
            "Epoch 45/50\n",
            "3/3 [==============================] - 0s 47ms/step - loss: 0.6394 - accuracy: 0.6627 - val_loss: 0.5485 - val_accuracy: 0.8095\n",
            "Epoch 46/50\n",
            "3/3 [==============================] - 0s 51ms/step - loss: 0.6388 - accuracy: 0.6627 - val_loss: 0.5463 - val_accuracy: 0.8095\n",
            "Epoch 47/50\n",
            "3/3 [==============================] - 0s 48ms/step - loss: 0.6401 - accuracy: 0.6627 - val_loss: 0.5430 - val_accuracy: 0.8095\n",
            "Epoch 48/50\n",
            "3/3 [==============================] - 0s 52ms/step - loss: 0.6409 - accuracy: 0.6627 - val_loss: 0.5425 - val_accuracy: 0.8095\n",
            "Epoch 49/50\n",
            "3/3 [==============================] - 0s 49ms/step - loss: 0.6393 - accuracy: 0.6627 - val_loss: 0.5510 - val_accuracy: 0.8095\n",
            "Epoch 50/50\n",
            "3/3 [==============================] - 0s 47ms/step - loss: 0.6392 - accuracy: 0.6627 - val_loss: 0.5555 - val_accuracy: 0.8095\n"
          ]
        },
        {
          "output_type": "execute_result",
          "data": {
            "text/plain": [
              "<keras.callbacks.History at 0x7fc72e3548d0>"
            ]
          },
          "metadata": {},
          "execution_count": 50
        }
      ]
    },
    {
      "cell_type": "code",
      "metadata": {
        "colab": {
          "base_uri": "https://localhost:8080/"
        },
        "id": "mJKLiBzUOa8Y",
        "outputId": "1672a39a-9b92-4670-c4b9-e42ef68daece"
      },
      "source": [
        "model_conv.evaluate(x_test, y_test)"
      ],
      "execution_count": 51,
      "outputs": [
        {
          "output_type": "stream",
          "name": "stdout",
          "text": [
            "1/1 [==============================] - 0s 19ms/step - loss: 0.6166 - accuracy: 0.7037\n"
          ]
        },
        {
          "output_type": "execute_result",
          "data": {
            "text/plain": [
              "[0.6166264414787292, 0.7037037014961243]"
            ]
          },
          "metadata": {},
          "execution_count": 51
        }
      ]
    },
    {
      "cell_type": "markdown",
      "metadata": {
        "id": "qkaTy61vOu0L"
      },
      "source": [
        "RNN"
      ]
    },
    {
      "cell_type": "code",
      "metadata": {
        "id": "AjZ70rYWOvwW"
      },
      "source": [
        "from keras.layers import Dense, Embedding, Dropout , Activation, Flatten, SimpleRNN\n",
        "import tensorflow as tf\n",
        "from keras.layers import GlobalMaxPool1D"
      ],
      "execution_count": 56,
      "outputs": []
    },
    {
      "cell_type": "code",
      "metadata": {
        "colab": {
          "base_uri": "https://localhost:8080/"
        },
        "id": "LZHbZgi_OxDy",
        "outputId": "22786ab2-f317-41e0-b3cb-cb055f5fd414"
      },
      "source": [
        "recall = tf.keras.metrics.Recall()\n",
        "precision = tf.keras.metrics.Precision()\n",
        "\n",
        "model = Sequential([Embedding(num_words, embed_dim, input_length = pad_length),\n",
        "                   SimpleRNN(8, return_sequences = True),\n",
        "                   GlobalMaxPool1D(),\n",
        "                   Dense(20,activation = 'relu'),\n",
        "                   Dropout(0.25),\n",
        "                   Dense(1,activation = 'sigmoid')])\n",
        "model.compile(loss='binary_crossentropy', optimizer='adam', metrics=['accuracy'])\n",
        "model.summary()"
      ],
      "execution_count": 62,
      "outputs": [
        {
          "output_type": "stream",
          "name": "stdout",
          "text": [
            "Model: \"sequential_10\"\n",
            "_________________________________________________________________\n",
            "Layer (type)                 Output Shape              Param #   \n",
            "=================================================================\n",
            "embedding_10 (Embedding)     (None, 24, 32)            256000    \n",
            "_________________________________________________________________\n",
            "simple_rnn_4 (SimpleRNN)     (None, 24, 8)             328       \n",
            "_________________________________________________________________\n",
            "global_max_pooling1d_3 (Glob (None, 8)                 0         \n",
            "_________________________________________________________________\n",
            "dense_12 (Dense)             (None, 20)                180       \n",
            "_________________________________________________________________\n",
            "dropout_4 (Dropout)          (None, 20)                0         \n",
            "_________________________________________________________________\n",
            "dense_13 (Dense)             (None, 1)                 21        \n",
            "=================================================================\n",
            "Total params: 256,529\n",
            "Trainable params: 256,529\n",
            "Non-trainable params: 0\n",
            "_________________________________________________________________\n"
          ]
        }
      ]
    },
    {
      "cell_type": "code",
      "metadata": {
        "colab": {
          "base_uri": "https://localhost:8080/"
        },
        "id": "Dw98-7thPQWi",
        "outputId": "e4f2a993-3fa1-434c-8881-86d5bd8c7267"
      },
      "source": [
        "history = model.fit(x = x_train, y = y_train, epochs = 10,validation_split = 0.2)"
      ],
      "execution_count": 63,
      "outputs": [
        {
          "output_type": "stream",
          "name": "stdout",
          "text": [
            "Epoch 1/10\n",
            "3/3 [==============================] - 2s 148ms/step - loss: 0.7075 - accuracy: 0.4096 - val_loss: 0.7051 - val_accuracy: 0.1905\n",
            "Epoch 2/10\n",
            "3/3 [==============================] - 0s 24ms/step - loss: 0.7041 - accuracy: 0.4337 - val_loss: 0.6956 - val_accuracy: 0.1905\n",
            "Epoch 3/10\n",
            "3/3 [==============================] - 0s 24ms/step - loss: 0.6859 - accuracy: 0.5904 - val_loss: 0.6868 - val_accuracy: 0.8095\n",
            "Epoch 4/10\n",
            "3/3 [==============================] - 0s 20ms/step - loss: 0.6903 - accuracy: 0.5542 - val_loss: 0.6768 - val_accuracy: 0.8095\n",
            "Epoch 5/10\n",
            "3/3 [==============================] - 0s 24ms/step - loss: 0.6912 - accuracy: 0.4940 - val_loss: 0.6668 - val_accuracy: 0.8095\n",
            "Epoch 6/10\n",
            "3/3 [==============================] - 0s 20ms/step - loss: 0.6672 - accuracy: 0.6867 - val_loss: 0.6562 - val_accuracy: 0.8095\n",
            "Epoch 7/10\n",
            "3/3 [==============================] - 0s 23ms/step - loss: 0.6653 - accuracy: 0.6265 - val_loss: 0.6458 - val_accuracy: 0.8095\n",
            "Epoch 8/10\n",
            "3/3 [==============================] - 0s 26ms/step - loss: 0.6632 - accuracy: 0.6627 - val_loss: 0.6375 - val_accuracy: 0.8095\n",
            "Epoch 9/10\n",
            "3/3 [==============================] - 0s 19ms/step - loss: 0.6731 - accuracy: 0.6024 - val_loss: 0.6293 - val_accuracy: 0.8095\n",
            "Epoch 10/10\n",
            "3/3 [==============================] - 0s 21ms/step - loss: 0.6739 - accuracy: 0.6265 - val_loss: 0.6203 - val_accuracy: 0.8095\n"
          ]
        }
      ]
    },
    {
      "cell_type": "code",
      "metadata": {
        "id": "fxkT9TtsS4qq"
      },
      "source": [
        "predictions = model.predict(x_test)\n",
        "predict = []\n",
        "for i in predictions:\n",
        "    predict.append(np.argmax(i))"
      ],
      "execution_count": 65,
      "outputs": []
    },
    {
      "cell_type": "code",
      "metadata": {
        "colab": {
          "base_uri": "https://localhost:8080/"
        },
        "id": "AkEZ5a22TQQ4",
        "outputId": "39c53181-cdbf-40ba-b0ef-4703c422362f"
      },
      "source": [
        "from sklearn import metrics\n",
        "\n",
        "print(metrics.classification_report(y_test, predict))"
      ],
      "execution_count": 66,
      "outputs": [
        {
          "output_type": "stream",
          "name": "stdout",
          "text": [
            "              precision    recall  f1-score   support\n",
            "\n",
            "           0       0.70      1.00      0.83        19\n",
            "           1       0.00      0.00      0.00         8\n",
            "\n",
            "    accuracy                           0.70        27\n",
            "   macro avg       0.35      0.50      0.41        27\n",
            "weighted avg       0.50      0.70      0.58        27\n",
            "\n"
          ]
        },
        {
          "output_type": "stream",
          "name": "stderr",
          "text": [
            "/usr/local/lib/python3.7/dist-packages/sklearn/metrics/_classification.py:1272: UndefinedMetricWarning:\n",
            "\n",
            "Precision and F-score are ill-defined and being set to 0.0 in labels with no predicted samples. Use `zero_division` parameter to control this behavior.\n",
            "\n"
          ]
        }
      ]
    },
    {
      "cell_type": "markdown",
      "metadata": {
        "id": "YlkPkMWrUVv-"
      },
      "source": [
        "Applying Machine Learning Algoritham"
      ]
    },
    {
      "cell_type": "code",
      "metadata": {
        "id": "z8a3loKzUdVu"
      },
      "source": [
        "from sklearn.feature_extraction.text import TfidfVectorizer\n",
        "from sklearn.linear_model import LogisticRegression\n",
        "from sklearn.metrics import classification_report\n",
        "from sklearn.svm import LinearSVC\n",
        "from sklearn.svm import SVC"
      ],
      "execution_count": 73,
      "outputs": []
    },
    {
      "cell_type": "code",
      "metadata": {
        "colab": {
          "base_uri": "https://localhost:8080/"
        },
        "id": "h9TxyLeeUaM1",
        "outputId": "7ce3f19d-5f15-431a-c6f6-eb900d05a1ed"
      },
      "source": [
        "vectorizer = TfidfVectorizer(max_features = 1000 )\n",
        "# tokenize and build vocab\n",
        "\n",
        "vectorizer.fit(x)\n",
        "# summarize\n",
        "\n",
        "print(len(vectorizer.vocabulary_))\n",
        "print(vectorizer.idf_.shape)"
      ],
      "execution_count": 74,
      "outputs": [
        {
          "output_type": "stream",
          "name": "stdout",
          "text": [
            "516\n",
            "(516,)\n"
          ]
        }
      ]
    },
    {
      "cell_type": "code",
      "metadata": {
        "colab": {
          "base_uri": "https://localhost:8080/"
        },
        "id": "09venHNxUjZ1",
        "outputId": "7a281d01-654f-4621-9629-1325cf1bb887"
      },
      "source": [
        "x_tfidf = vectorizer.transform(x).toarray()\n",
        "print(x_tfidf.shape)"
      ],
      "execution_count": 75,
      "outputs": [
        {
          "output_type": "stream",
          "name": "stdout",
          "text": [
            "(131, 516)\n"
          ]
        }
      ]
    },
    {
      "cell_type": "markdown",
      "metadata": {
        "id": "gMVmOAbcXIDT"
      },
      "source": [
        "Linear SVM"
      ]
    },
    {
      "cell_type": "code",
      "metadata": {
        "colab": {
          "base_uri": "https://localhost:8080/"
        },
        "id": "yIWZCNFLUnX-",
        "outputId": "c8279806-8095-484d-eb10-83af713f6097"
      },
      "source": [
        "svm_model = LinearSVC(class_weight='balanced',multi_class='crammer_singer',max_iter = -1).fit(x_train, y_train)\n",
        "svm_model_predict = svm_model.predict(x_test)\n",
        "svm_report = classification_report(y_test, svm_model_predict )\n",
        "print(svm_report)"
      ],
      "execution_count": 76,
      "outputs": [
        {
          "output_type": "stream",
          "name": "stdout",
          "text": [
            "              precision    recall  f1-score   support\n",
            "\n",
            "           0       0.00      0.00      0.00        19\n",
            "           1       0.30      1.00      0.46         8\n",
            "\n",
            "    accuracy                           0.30        27\n",
            "   macro avg       0.15      0.50      0.23        27\n",
            "weighted avg       0.09      0.30      0.14        27\n",
            "\n"
          ]
        },
        {
          "output_type": "stream",
          "name": "stderr",
          "text": [
            "/usr/local/lib/python3.7/dist-packages/sklearn/svm/_base.py:947: ConvergenceWarning:\n",
            "\n",
            "Liblinear failed to converge, increase the number of iterations.\n",
            "\n",
            "/usr/local/lib/python3.7/dist-packages/sklearn/metrics/_classification.py:1272: UndefinedMetricWarning:\n",
            "\n",
            "Precision and F-score are ill-defined and being set to 0.0 in labels with no predicted samples. Use `zero_division` parameter to control this behavior.\n",
            "\n"
          ]
        }
      ]
    },
    {
      "cell_type": "markdown",
      "metadata": {
        "id": "sbftjGlQXPR9"
      },
      "source": [
        "Logistic Regression"
      ]
    },
    {
      "cell_type": "code",
      "metadata": {
        "colab": {
          "base_uri": "https://localhost:8080/"
        },
        "id": "hbhdijG_Uurd",
        "outputId": "4951a506-b080-40f9-cb5a-3e0670ca0391"
      },
      "source": [
        "logistic_reg_model = LogisticRegression(n_jobs = -1, penalty='l2', multi_class='multinomial',class_weight = 'balanced',verbose=1).fit(x_train,y_train)\n",
        "lr_model_predict = logistic_reg_model.predict(x_test)\n",
        "lr_model_report = classification_report(y_test, lr_model_predict)\n",
        "print(lr_model_report)"
      ],
      "execution_count": 77,
      "outputs": [
        {
          "output_type": "stream",
          "name": "stderr",
          "text": [
            "[Parallel(n_jobs=-1)]: Using backend LokyBackend with 2 concurrent workers.\n"
          ]
        },
        {
          "output_type": "stream",
          "name": "stdout",
          "text": [
            "              precision    recall  f1-score   support\n",
            "\n",
            "           0       0.70      1.00      0.83        19\n",
            "           1       0.00      0.00      0.00         8\n",
            "\n",
            "    accuracy                           0.70        27\n",
            "   macro avg       0.35      0.50      0.41        27\n",
            "weighted avg       0.50      0.70      0.58        27\n",
            "\n"
          ]
        },
        {
          "output_type": "stream",
          "name": "stderr",
          "text": [
            "[Parallel(n_jobs=-1)]: Done   1 out of   1 | elapsed:    1.0s finished\n",
            "/usr/local/lib/python3.7/dist-packages/sklearn/metrics/_classification.py:1272: UndefinedMetricWarning:\n",
            "\n",
            "Precision and F-score are ill-defined and being set to 0.0 in labels with no predicted samples. Use `zero_division` parameter to control this behavior.\n",
            "\n"
          ]
        }
      ]
    },
    {
      "cell_type": "markdown",
      "metadata": {
        "id": "rF55n1iCXSLV"
      },
      "source": [
        "Decision Tree"
      ]
    },
    {
      "cell_type": "code",
      "metadata": {
        "colab": {
          "base_uri": "https://localhost:8080/"
        },
        "id": "zQo8bYHRU4pQ",
        "outputId": "95585a01-f98d-43ff-9e8d-12e7581da52a"
      },
      "source": [
        "from sklearn.tree import DecisionTreeClassifier\n",
        "dct = DecisionTreeClassifier(criterion='entropy', random_state=1)\n",
        "decision_tree_model = dct.fit(x_train,y_train)\n",
        "decision_tree_model_predict = decision_tree_model.predict(x_test)\n",
        "decision_tree_report = classification_report(y_test,decision_tree_model_predict)\n",
        "print(decision_tree_report)"
      ],
      "execution_count": 78,
      "outputs": [
        {
          "output_type": "stream",
          "name": "stdout",
          "text": [
            "              precision    recall  f1-score   support\n",
            "\n",
            "           0       0.70      1.00      0.83        19\n",
            "           1       0.00      0.00      0.00         8\n",
            "\n",
            "    accuracy                           0.70        27\n",
            "   macro avg       0.35      0.50      0.41        27\n",
            "weighted avg       0.50      0.70      0.58        27\n",
            "\n"
          ]
        },
        {
          "output_type": "stream",
          "name": "stderr",
          "text": [
            "/usr/local/lib/python3.7/dist-packages/sklearn/metrics/_classification.py:1272: UndefinedMetricWarning:\n",
            "\n",
            "Precision and F-score are ill-defined and being set to 0.0 in labels with no predicted samples. Use `zero_division` parameter to control this behavior.\n",
            "\n"
          ]
        }
      ]
    },
    {
      "cell_type": "markdown",
      "metadata": {
        "id": "t_Uy1wVrXUK2"
      },
      "source": [
        "Random Forest"
      ]
    },
    {
      "cell_type": "code",
      "metadata": {
        "colab": {
          "base_uri": "https://localhost:8080/"
        },
        "id": "37DIXwj7U5yd",
        "outputId": "6becef74-13d9-4e83-ac6b-26c039ee23f4"
      },
      "source": [
        "from sklearn.ensemble import RandomForestClassifier\n",
        "clf = RandomForestClassifier(n_estimators=20)\n",
        "random_forest_model = clf.fit(x_train,y_train)\n",
        "random_forest_model_predict = random_forest_model.predict(x_test)\n",
        "random_forest_report = classification_report(y_test,random_forest_model_predict)\n",
        "print(random_forest_report)"
      ],
      "execution_count": 79,
      "outputs": [
        {
          "output_type": "stream",
          "name": "stdout",
          "text": [
            "              precision    recall  f1-score   support\n",
            "\n",
            "           0       0.70      1.00      0.83        19\n",
            "           1       0.00      0.00      0.00         8\n",
            "\n",
            "    accuracy                           0.70        27\n",
            "   macro avg       0.35      0.50      0.41        27\n",
            "weighted avg       0.50      0.70      0.58        27\n",
            "\n"
          ]
        },
        {
          "output_type": "stream",
          "name": "stderr",
          "text": [
            "/usr/local/lib/python3.7/dist-packages/sklearn/metrics/_classification.py:1272: UndefinedMetricWarning:\n",
            "\n",
            "Precision and F-score are ill-defined and being set to 0.0 in labels with no predicted samples. Use `zero_division` parameter to control this behavior.\n",
            "\n"
          ]
        }
      ]
    },
    {
      "cell_type": "markdown",
      "metadata": {
        "id": "Fn693H6nXWjR"
      },
      "source": [
        "Multi Class Naive Bayes"
      ]
    },
    {
      "cell_type": "code",
      "metadata": {
        "colab": {
          "base_uri": "https://localhost:8080/"
        },
        "id": "6piTi-uUU8Cu",
        "outputId": "3621651a-a18d-4c8f-9cd6-598bb491d942"
      },
      "source": [
        "from sklearn.naive_bayes import MultinomialNB\n",
        "model = MultinomialNB()\n",
        "naive_bayes_model = model.fit(x_train,y_train)\n",
        "naive_bayes_model_predict = naive_bayes_model.predict(x_test)\n",
        "naive_bayes_report = classification_report(y_test,naive_bayes_model_predict)\n",
        "print(naive_bayes_report)"
      ],
      "execution_count": 80,
      "outputs": [
        {
          "output_type": "stream",
          "name": "stdout",
          "text": [
            "              precision    recall  f1-score   support\n",
            "\n",
            "           0       0.70      1.00      0.83        19\n",
            "           1       0.00      0.00      0.00         8\n",
            "\n",
            "    accuracy                           0.70        27\n",
            "   macro avg       0.35      0.50      0.41        27\n",
            "weighted avg       0.50      0.70      0.58        27\n",
            "\n"
          ]
        },
        {
          "output_type": "stream",
          "name": "stderr",
          "text": [
            "/usr/local/lib/python3.7/dist-packages/sklearn/metrics/_classification.py:1272: UndefinedMetricWarning:\n",
            "\n",
            "Precision and F-score are ill-defined and being set to 0.0 in labels with no predicted samples. Use `zero_division` parameter to control this behavior.\n",
            "\n"
          ]
        }
      ]
    },
    {
      "cell_type": "markdown",
      "metadata": {
        "id": "C6YXtIqcXZo9"
      },
      "source": [
        "Adaboost"
      ]
    },
    {
      "cell_type": "code",
      "metadata": {
        "colab": {
          "base_uri": "https://localhost:8080/"
        },
        "id": "stR5Vmq6U-tl",
        "outputId": "b815b0c7-e5a1-4150-c69a-b4603de5853d"
      },
      "source": [
        "from sklearn.ensemble import AdaBoostClassifier\n",
        "from sklearn.tree import DecisionTreeClassifier\n",
        "dt = DecisionTreeClassifier() \n",
        "clf = AdaBoostClassifier(n_estimators=100, base_estimator=dt,learning_rate=1)\n",
        "# training the model\n",
        "clf.fit(x_train,y_train)\n",
        "adaboost_model_predict = clf.predict(x_test)\n",
        "adaboost_model_report = classification_report(y_test, adaboost_model_predict)\n",
        "print(adaboost_model_report)"
      ],
      "execution_count": 81,
      "outputs": [
        {
          "output_type": "stream",
          "name": "stdout",
          "text": [
            "              precision    recall  f1-score   support\n",
            "\n",
            "           0       0.70      1.00      0.83        19\n",
            "           1       0.00      0.00      0.00         8\n",
            "\n",
            "    accuracy                           0.70        27\n",
            "   macro avg       0.35      0.50      0.41        27\n",
            "weighted avg       0.50      0.70      0.58        27\n",
            "\n"
          ]
        },
        {
          "output_type": "stream",
          "name": "stderr",
          "text": [
            "/usr/local/lib/python3.7/dist-packages/sklearn/metrics/_classification.py:1272: UndefinedMetricWarning:\n",
            "\n",
            "Precision and F-score are ill-defined and being set to 0.0 in labels with no predicted samples. Use `zero_division` parameter to control this behavior.\n",
            "\n"
          ]
        }
      ]
    },
    {
      "cell_type": "markdown",
      "metadata": {
        "id": "qhfXkLI0Xbos"
      },
      "source": [
        "XGBoost"
      ]
    },
    {
      "cell_type": "code",
      "metadata": {
        "colab": {
          "base_uri": "https://localhost:8080/"
        },
        "id": "n49JmovbVBCu",
        "outputId": "c3f33b5b-77c9-4cff-b41a-5969633b4900"
      },
      "source": [
        "from xgboost import XGBClassifier\n",
        "model = XGBClassifier()\n",
        "xgboost_model = model.fit(x_train, y_train)\n",
        "xgboost_model_predict = xgboost_model.predict(x_test)\n",
        "xgboost_model_report = classification_report(y_test,xgboost_model_predict)\n",
        "print(xgboost_model_report)"
      ],
      "execution_count": 82,
      "outputs": [
        {
          "output_type": "stream",
          "name": "stdout",
          "text": [
            "              precision    recall  f1-score   support\n",
            "\n",
            "           0       0.70      1.00      0.83        19\n",
            "           1       0.00      0.00      0.00         8\n",
            "\n",
            "    accuracy                           0.70        27\n",
            "   macro avg       0.35      0.50      0.41        27\n",
            "weighted avg       0.50      0.70      0.58        27\n",
            "\n"
          ]
        },
        {
          "output_type": "stream",
          "name": "stderr",
          "text": [
            "/usr/local/lib/python3.7/dist-packages/sklearn/metrics/_classification.py:1272: UndefinedMetricWarning:\n",
            "\n",
            "Precision and F-score are ill-defined and being set to 0.0 in labels with no predicted samples. Use `zero_division` parameter to control this behavior.\n",
            "\n"
          ]
        }
      ]
    }
  ]
}